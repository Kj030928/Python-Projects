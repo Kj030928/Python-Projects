{
 "cells": [
  {
   "cell_type": "code",
   "execution_count": 7,
   "id": "3a47b426",
   "metadata": {},
   "outputs": [
    {
     "name": "stdout",
     "output_type": "stream",
     "text": [
      "Enter a number:apeh\n",
      "the input data is not a number\n"
     ]
    }
   ],
   "source": [
    "#Value Error\n",
    "try: \n",
    " number = int(input(\"Enter a number:\"))\n",
    "except: \n",
    "    print(\"the input data is not a number\")"
   ]
  },
  {
   "cell_type": "code",
   "execution_count": 8,
   "id": "820cdbd7",
   "metadata": {},
   "outputs": [
    {
     "name": "stdout",
     "output_type": "stream",
     "text": [
      "The data input is not int\n"
     ]
    }
   ],
   "source": [
    "#Type Error\n",
    "try: # code that might raise an exception\n",
    "  x = \"2\" + 2\n",
    "except TypeError:  # code that runs if the exception occurs\n",
    "     print(\"The data input is not int\")"
   ]
  },
  {
   "cell_type": "code",
   "execution_count": 8,
   "id": "3a901f74",
   "metadata": {},
   "outputs": [
    {
     "name": "stdout",
     "output_type": "stream",
     "text": [
      "the value exists in the list\n"
     ]
    }
   ],
   "source": [
    "kjlist = [1,2,3]\n",
    "\n",
    "try: \n",
    "    kjlist = 10\n",
    "    print('the value exists in the list')\n",
    "        \n",
    "except: \n",
    "    print('the value is not exist in the list')"
   ]
  },
  {
   "cell_type": "code",
   "execution_count": null,
   "id": "d9fa3824",
   "metadata": {},
   "outputs": [],
   "source": [
    "kjlist = [1,2,3]\n",
    "\n",
    "try: \n",
    "    input = input(\"\")\n",
    "    print('the value exists in the list')\n",
    "        \n",
    "except: \n",
    "    print('the value is not exist in the list')"
   ]
  },
  {
   "cell_type": "code",
   "execution_count": 12,
   "id": "5218b16b",
   "metadata": {},
   "outputs": [
    {
     "name": "stdout",
     "output_type": "stream",
     "text": [
      "Enter a valid number apeh\n",
      "That's not a number!\n",
      "This is executed no matter what!\n"
     ]
    }
   ],
   "source": [
    "def example(): \n",
    "            try:\n",
    "               number = int(input(\"Enter a valid number \"))\n",
    "            except ValueError:\n",
    "                print(\"That's not a number!\")\n",
    "                return None\n",
    "            else: \n",
    "                print(\"You've entered a number!\")\n",
    "                return number \n",
    "            finally: \n",
    "                print(\"This is executed no matter what!\")\n",
    "\n",
    "result = example()\n",
    "if result is not None:\n",
    "    print(\"Result:\", result)"
   ]
  },
  {
   "cell_type": "code",
   "execution_count": 43,
   "id": "7b5b99d9",
   "metadata": {},
   "outputs": [
    {
     "name": "stdout",
     "output_type": "stream",
     "text": [
      "Enter a number 1\n",
      "1.0\n"
     ]
    }
   ],
   "source": [
    "try:\n",
    "    user_input = input(\"Enter a number \")\n",
    "    result = 1 / int(user_input)\n",
    "    print(result)\n",
    "except ValueError:\n",
    "    print(\"Please enter a valid integer.\")\n",
    "except ZeroDivisionError:\n",
    "    print(\"Division by zero is not allowed.\")"
   ]
  },
  {
   "cell_type": "code",
   "execution_count": 40,
   "id": "dd511bb3",
   "metadata": {},
   "outputs": [],
   "source": [
    "def division(): \n",
    "    \n",
    "  try:\n",
    "    user_input = input(\"Enter a number \")\n",
    "    result = 1 / int(user_input)\n",
    "    print(result)\n",
    "  except ValueError:\n",
    "    print(\"Please enter a valid integer.\")\n",
    "  except ZeroDivisionError:\n",
    "    print(\"Division by zero is not allowed.\")"
   ]
  },
  {
   "cell_type": "code",
   "execution_count": null,
   "id": "1bb27d14",
   "metadata": {},
   "outputs": [],
   "source": [
    "def add(num1, num2):\n",
    "    a = num1 + num2\n",
    "    return a \n",
    "\n",
    "def sub(num1, num2):\n",
    "    s = num1 - num2\n",
    "    return s\n",
    "\n",
    "def mult(num1, num2):\n",
    "    m = num1*num2\n",
    "    return m\n",
    "\n",
    "def divi(num1, num2):\n",
    "    d = num1/num2\n",
    "    return d\n",
    "\n",
    "operation = ['+','-','x','/']\n",
    "    \n",
    "def user_input(operation_symbol):\n",
    "    if(is_valid(operation_symbol)):\n",
    "        return \"the subject is valid\"\n",
    "    else:\n",
    "        return \"the subject is not valid\"\n",
    "    \n",
    "    \n",
    "def is_valid(operation_symbol):\n",
    "    return operation_symbol in operation\n",
    "\n",
    "\n",
    "try: \n",
    "    user_input = input(\"Enter an operation: \")\n",
    "    \n",
    "except: \n",
    "    print(\"Please enter a valid operation\")\n",
    "\n",
    "try:\n",
    "    num1 = int(input(\"Enter the first number: \"))\n",
    "\n",
    "except:\n",
    "    print(\"It must be a valid number\")\n",
    "    \n",
    "\n",
    "try:\n",
    "    num2 = int(input(\"Enter the second number: \"))\n",
    "\n",
    "except:\n",
    "    print(\"It must be a valid number\")\n",
    "\n",
    "\n",
    "if user_input == \"+\":\n",
    "    print(add(num1, num2))\n",
    "    \n",
    "elif user_input == \"-\":\n",
    "    print(sub(num1, num2))\n",
    "    \n",
    "elif user_input == \"x\":\n",
    "    print(mult(num1, num2))\n",
    "    \n",
    "elif user_input == \"/\":\n",
    "    print(divi(num1, num2))\n",
    "else:\n",
    "    print('Please enter a valid number or operation')\n",
    "   "
   ]
  },
  {
   "cell_type": "code",
   "execution_count": 33,
   "id": "c3f58f8c",
   "metadata": {},
   "outputs": [
    {
     "name": "stdout",
     "output_type": "stream",
     "text": [
      "Enter a number 1\n",
      "Enter a number 0\n",
      "Division by zero is not allowed.\n"
     ]
    }
   ],
   "source": [
    "operations = input(operation)\n",
    "\n",
    "if operations == \"+\":\n",
    "    return\n",
    "\n",
    "def division\n",
    "\n",
    "try:\n",
    "    num1 = input(\"Enter a number \")\n",
    "    num2 = input(\"Enter a number \") \n",
    "    result = int(num1) / int(num2)\n",
    "    print(result)\n",
    "except ValueError:\n",
    "    print(\"Please enter a valid integer.\")\n",
    "except ZeroDivisionError:\n",
    "    print(\"Division by zero is not allowed.\")"
   ]
  },
  {
   "cell_type": "code",
   "execution_count": null,
   "id": "3c98d867",
   "metadata": {},
   "outputs": [],
   "source": []
  }
 ],
 "metadata": {
  "kernelspec": {
   "display_name": "Python 3 (ipykernel)",
   "language": "python",
   "name": "python3"
  },
  "language_info": {
   "codemirror_mode": {
    "name": "ipython",
    "version": 3
   },
   "file_extension": ".py",
   "mimetype": "text/x-python",
   "name": "python",
   "nbconvert_exporter": "python",
   "pygments_lexer": "ipython3",
   "version": "3.11.5"
  }
 },
 "nbformat": 4,
 "nbformat_minor": 5
}
