{
 "cells": [
  {
   "cell_type": "code",
   "execution_count": 9,
   "id": "f601b70e",
   "metadata": {},
   "outputs": [
    {
     "name": "stdout",
     "output_type": "stream",
     "text": [
      "Checkout Processed by: Sarah Connor\n",
      "\n",
      "Books Check Out: \n",
      "-1984\n",
      "-Brave New World\n",
      "\n",
      "Checkout Duration: 3 weeks\n",
      "\n",
      "Additional Checkout Details:\n",
      "- Renewals Allowed: 2\n",
      "- Late Fee: $0.25\n",
      "\n",
      "Special Conditions For Checkout:\n",
      "- Handle with care\n"
     ]
    }
   ],
   "source": [
    "def checkout_books(librarian_name, *Book_titles, duration='2 weeks', **Addition):\n",
    "    print(\"Checkout Processed by: \" + librarian_name)\n",
    "\n",
    "    print(\"\\nBooks Check Out: \")\n",
    "\n",
    "    for title in Book_titles:\n",
    "        print(\"-\" + title)\n",
    "\n",
    "    print(\"\\nCheckout Duration: \" + duration)\n",
    "\n",
    "    for category, value in Addition.items():\n",
    "        print()\n",
    "        print(category.replace('_', ' ').title() + \":\")\n",
    "\n",
    "        for details in value:\n",
    "            print(\"- \" + details)\n",
    "\n",
    "checkout_books('Sarah Connor', '1984', 'Brave New World', duration='3 weeks',\n",
    "               Additional_Checkout_Details={\"Late Fee: $0.25\",\"Renewals Allowed: 2\"},\n",
    "               Special_Conditions_For_Checkout={\"Handle with care\"})"
   ]
  },
  {
   "cell_type": "code",
   "execution_count": null,
   "id": "ecd127d1",
   "metadata": {},
   "outputs": [],
   "source": []
  }
 ],
 "metadata": {
  "kernelspec": {
   "display_name": "Python 3 (ipykernel)",
   "language": "python",
   "name": "python3"
  },
  "language_info": {
   "codemirror_mode": {
    "name": "ipython",
    "version": 3
   },
   "file_extension": ".py",
   "mimetype": "text/x-python",
   "name": "python",
   "nbconvert_exporter": "python",
   "pygments_lexer": "ipython3",
   "version": "3.11.5"
  }
 },
 "nbformat": 4,
 "nbformat_minor": 5
}
