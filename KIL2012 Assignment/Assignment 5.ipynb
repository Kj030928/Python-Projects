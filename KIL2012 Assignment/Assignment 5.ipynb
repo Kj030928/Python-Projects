{
 "cells": [
  {
   "cell_type": "markdown",
   "id": "1be55b35",
   "metadata": {},
   "source": [
    "# EXERCISE 1"
   ]
  },
  {
   "cell_type": "code",
   "execution_count": 3,
   "id": "227f8dd1",
   "metadata": {},
   "outputs": [
    {
     "name": "stdout",
     "output_type": "stream",
     "text": [
      "Filtered data saved to top_students.csv\n"
     ]
    }
   ],
   "source": [
    "import csv\n",
    "with open('students.csv','r') as c_file:\n",
    "    csv_reader = csv.DictReader(c_file)\n",
    "    datas = list(csv_reader)\n",
    "    \n",
    "    filtered_datas = [data for data in datas if data['Grade'] <= 'B']\n",
    "\n",
    "    for data in filtered_datas: \n",
    "        data['Status'] = 'Passed'\n",
    "    \n",
    "    output_file = 'top_students.csv'\n",
    "    fieldnames = csv_reader.fieldnames + ['Status']\n",
    "\n",
    "with open(output_file, 'w', newline='') as csv_output:\n",
    "    csv_writer = csv.DictWriter(csv_output, fieldnames=fieldnames)\n",
    "    csv_writer.writeheader()\n",
    "    csv_writer.writerows(filtered_datas)\n",
    "\n",
    "print(f\"Filtered data saved to {output_file}\")"
   ]
  },
  {
   "cell_type": "markdown",
   "id": "fb4761a0",
   "metadata": {},
   "source": [
    "# PRACTICE EXERCISE"
   ]
  },
  {
   "cell_type": "code",
   "execution_count": 4,
   "id": "818eba28",
   "metadata": {},
   "outputs": [
    {
     "name": "stdout",
     "output_type": "stream",
     "text": [
      "Enter the name of a state: Johor\n",
      "State: Johor, Population: 3794000\n"
     ]
    }
   ],
   "source": [
    "import requests\n",
    "api_url = \"https://jian.sh/malaysia-api/state/v1/all.json\"\n",
    "response = requests.get(api_url)\n",
    "malaysia_state_data = response.json()\n",
    "\n",
    "user_input = input('Enter the name of a state: ')\n",
    "    \n",
    "if user_input == 'Johor':\n",
    "    state_info = next((state for state in malaysia_state_data if state['state'] == user_input), None)\n",
    "     \n",
    "    if state_info:\n",
    "         print(f\"State: {state_info['state']}, Population: {state_info['population']}\")\n",
    "\n",
    "    else:\n",
    "         print(f\"{user_input} is not found in the data.\")\n",
    "            \n",
    "else:\n",
    "    print(f\"{user_input} is not found in the data.\")\n",
    "            "
   ]
  },
  {
   "cell_type": "code",
   "execution_count": null,
   "id": "eb5bd63f",
   "metadata": {},
   "outputs": [],
   "source": []
  }
 ],
 "metadata": {
  "kernelspec": {
   "display_name": "Python 3 (ipykernel)",
   "language": "python",
   "name": "python3"
  },
  "language_info": {
   "codemirror_mode": {
    "name": "ipython",
    "version": 3
   },
   "file_extension": ".py",
   "mimetype": "text/x-python",
   "name": "python",
   "nbconvert_exporter": "python",
   "pygments_lexer": "ipython3",
   "version": "3.11.5"
  }
 },
 "nbformat": 4,
 "nbformat_minor": 5
}
